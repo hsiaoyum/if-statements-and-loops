{
 "cells": [
  {
   "cell_type": "code",
   "execution_count": 2,
   "metadata": {},
   "outputs": [
    {
     "name": "stdout",
     "output_type": "stream",
     "text": [
      "1-10的加總是：55\n"
     ]
    }
   ],
   "source": [
    "total=0\n",
    "for x in range(1,11):\n",
    "    total += x\n",
    "\n",
    "print (f'1-10的加總是：{total}')   \n",
    "\n"
   ]
  },
  {
   "cell_type": "code",
   "execution_count": 3,
   "metadata": {},
   "outputs": [
    {
     "name": "stdout",
     "output_type": "stream",
     "text": [
      "0\n",
      "1\n",
      "2\n",
      "3\n",
      "4\n"
     ]
    }
   ],
   "source": [
    "for x in range(5):\n",
    "    print (x)"
   ]
  },
  {
   "cell_type": "code",
   "execution_count": 4,
   "metadata": {},
   "outputs": [
    {
     "name": "stdout",
     "output_type": "stream",
     "text": [
      "1-10的加總是：55\n"
     ]
    }
   ],
   "source": [
    "total=0\n",
    "for x in range(1,11):\n",
    "    total += x\n",
    "\n",
    "print (f'1-10的加總是：{total}')   "
   ]
  },
  {
   "cell_type": "code",
   "execution_count": 7,
   "metadata": {},
   "outputs": [
    {
     "name": "stdout",
     "output_type": "stream",
     "text": [
      "0-100的加總是：5050\n"
     ]
    }
   ],
   "source": [
    "total=0\n",
    "for x in range(101):\n",
    "    total += x\n",
    "\n",
    "print (f'0-100的加總是：{total}')   "
   ]
  },
  {
   "cell_type": "code",
   "execution_count": 10,
   "metadata": {},
   "outputs": [
    {
     "name": "stdout",
     "output_type": "stream",
     "text": [
      "1到100的加總是：5050\n"
     ]
    }
   ],
   "source": [
    "min=int(input('請輸入最小值'))\n",
    "max=int(input('請輸入最大值'))\n",
    "              \n",
    "\n",
    "total=0\n",
    "\n",
    "for x in range(min,max+1):\n",
    "    total += x\n",
    "\n",
    "print (f'{min}到{max}的加總是：{total}') \n",
    "\n",
    "              \n",
    "\n",
    "  "
   ]
  },
  {
   "cell_type": "code",
   "execution_count": 14,
   "metadata": {},
   "outputs": [
    {
     "name": "stdout",
     "output_type": "stream",
     "text": [
      "可兌換台北-沖繩來回經濟艙機票乙張，現有哩程數為34000\n"
     ]
    }
   ],
   "source": [
    "deposit=0\n",
    "\n",
    "while deposit <32000:\n",
    "    miles = int(input('請輸入里程數'))\n",
    "    deposit+=miles\n",
    "print(f'可兌換台北-沖繩來回經濟艙機票乙張，現有哩程數為{deposit}')        "
   ]
  },
  {
   "cell_type": "code",
   "execution_count": 2,
   "metadata": {},
   "outputs": [
    {
     "name": "stdout",
     "output_type": "stream",
     "text": [
      "你有0次累積紀錄，已可兌換台北-沖繩來回經濟艙機票乙張，現有總哩程數為33000\n"
     ]
    }
   ],
   "source": [
    "deposit=0\n",
    "times=0\n",
    "\n",
    "while deposit <32000:\n",
    "    miles = int(input('請輸入里程數'))\n",
    "    times+=1\n",
    "    deposit+=miles\n",
    "print(f'你有{times}次累積紀錄，已可兌換台北-沖繩來回經濟艙機票乙張，現有總哩程數為{deposit}')    "
   ]
  }
 ],
 "metadata": {
  "kernelspec": {
   "display_name": "Python 3",
   "language": "python",
   "name": "python3"
  },
  "language_info": {
   "codemirror_mode": {
    "name": "ipython",
    "version": 3
   },
   "file_extension": ".py",
   "mimetype": "text/x-python",
   "name": "python",
   "nbconvert_exporter": "python",
   "pygments_lexer": "ipython3",
   "version": "3.8.6"
  }
 },
 "nbformat": 4,
 "nbformat_minor": 2
}
