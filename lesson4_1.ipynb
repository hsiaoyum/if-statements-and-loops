{
 "cells": [
  {
   "cell_type": "code",
   "execution_count": 1,
   "metadata": {},
   "outputs": [
    {
     "name": "stdout",
     "output_type": "stream",
     "text": [
      "hello!world!\n"
     ]
    }
   ],
   "source": [
    "print('hello!world!')"
   ]
  },
  {
   "cell_type": "code",
   "execution_count": 4,
   "metadata": {},
   "outputs": [
    {
     "name": "stdout",
     "output_type": "stream",
     "text": [
      "學生分數是：55\n",
      "不及格\n"
     ]
    }
   ],
   "source": [
    "score=int(input(\"請輸入分數\"))\n",
    "if score>=60:\n",
    "    print(f\"學生分數是：{score}\")\n",
    "    print(\"及格\")\n",
    "else:\n",
    "    print(f\"學生分數是：{score}\") \n",
    "    print('不及格')   "
   ]
  },
  {
   "cell_type": "code",
   "execution_count": 7,
   "metadata": {},
   "outputs": [
    {
     "name": "stdout",
     "output_type": "stream",
     "text": [
      "獎金1000元\n"
     ]
    }
   ],
   "source": [
    "#巢狀判斷用於兩個以上的條件判斷\n",
    "chinese=100\n",
    "math=100\n",
    "if chinese==100:\n",
    "    if math==100:\n",
    "       print(\"獎金1000元\")\n",
    "    else:\n",
    "       print('無獎金')\n",
    "else:\n",
    "       print('無獎金')\n"
   ]
  },
  {
   "cell_type": "code",
   "execution_count": 9,
   "metadata": {},
   "outputs": [
    {
     "name": "stdout",
     "output_type": "stream",
     "text": [
      "獎學金1000\n"
     ]
    }
   ],
   "source": [
    "overall=eval(input('請輸入overall'))\n",
    "if overall>=8.0:\n",
    "   print('獎學金2000')\n",
    "elif overall>=7.0:\n",
    "     print(\"獎學金1000\")\n",
    "else:\n",
    "     print(\"無獎金\")"
   ]
  },
  {
   "cell_type": "code",
   "execution_count": 19,
   "metadata": {},
   "outputs": [
    {
     "name": "stdout",
     "output_type": "stream",
     "text": [
      "獎金1000元\n"
     ]
    }
   ],
   "source": [
    "#巢狀判斷用於兩個以上的條件判斷\n",
    "chinese=100\n",
    "math=100\n",
    "if chinese==100:\n",
    "    if math==100:\n",
    "       print(\"獎金1000元\")\n",
    "    else:\n",
    "       print('獎金500元')\n",
    "else:\n",
    "       if math==100:\n",
    "        print('獎金500元')\n",
    "       else:\n",
    "           \n",
    "        print('無獎金')"
   ]
  },
  {
   "cell_type": "code",
   "execution_count": 24,
   "metadata": {},
   "outputs": [
    {
     "name": "stdout",
     "output_type": "stream",
     "text": [
      "獎金1000\n"
     ]
    }
   ],
   "source": [
    "#巢狀判斷搭配邏輯運算子\n",
    "#2個條件->邏輯運算子\n",
    "\n",
    "chinese=100\n",
    "math=100\n",
    "\n",
    "if chinese==100 and math==100:\n",
    "    print ('獎金1000')\n",
    "else:\n",
    "    if chinese==100 or math==100:\n",
    "        print ('獎金500元')\n",
    "    else:\n",
    "        print('獎金0元')"
   ]
  },
  {
   "cell_type": "code",
   "execution_count": 29,
   "metadata": {},
   "outputs": [
    {
     "name": "stdout",
     "output_type": "stream",
     "text": [
      "獎金1000\n"
     ]
    }
   ],
   "source": [
    "chinese=100\n",
    "math=100\n",
    "\n",
    "if chinese==100 and math==100:\n",
    "    print ('獎金1000')\n",
    "elif chinese==100 or math==100:\n",
    "     print('獎金500元')     \n",
    "else:\n",
    "     print('無獎金')     \n",
    " "
   ]
  },
  {
   "cell_type": "code",
   "execution_count": 3,
   "metadata": {},
   "outputs": [
    {
     "name": "stdout",
     "output_type": "stream",
     "text": [
      "心率正常\n"
     ]
    }
   ],
   "source": [
    "bpm=int(input('請輸入心跳'))\n",
    "\n",
    "if bpm>=60 and bpm<=85:\n",
    "    print('心率正常')\n",
    "elif bpm < 60:\n",
    "    print('心跳過慢')\n",
    "\n",
    "else:\n",
    "    print(\"心跳過快\") \n"
   ]
  },
  {
   "cell_type": "code",
   "execution_count": 4,
   "metadata": {},
   "outputs": [
    {
     "name": "stdout",
     "output_type": "stream",
     "text": [
      "CEFR:C1\n"
     ]
    }
   ],
   "source": [
    "ieltsoverall=eval(input(\"請輸入overall:\"))\n",
    "if ieltsoverall==9.0:\n",
    "   print('CEFR:C2')\n",
    "elif ieltsoverall>=7.0:\n",
    "  print(\"CEFR:C1\")\n",
    "elif ieltsoverall>=5.5:\n",
    "  print(\"CEFR:B2\")\n",
    "elif ieltsoverall>=4.0:\n",
    "  print(\"CEFR:B1\")\n",
    "else:\n",
    "  print(\"CEFR:A\")"
   ]
  }
 ],
 "metadata": {
  "kernelspec": {
   "display_name": "Python 3",
   "language": "python",
   "name": "python3"
  },
  "language_info": {
   "codemirror_mode": {
    "name": "ipython",
    "version": 3
   },
   "file_extension": ".py",
   "mimetype": "text/x-python",
   "name": "python",
   "nbconvert_exporter": "python",
   "pygments_lexer": "ipython3",
   "version": "3.8.6"
  }
 },
 "nbformat": 4,
 "nbformat_minor": 2
}
