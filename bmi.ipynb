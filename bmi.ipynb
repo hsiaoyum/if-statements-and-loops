{
 "cells": [
  {
   "cell_type": "code",
   "execution_count": 10,
   "metadata": {},
   "outputs": [
    {
     "name": "stdout",
     "output_type": "stream",
     "text": [
      "您的bmi是21\n"
     ]
    }
   ],
   "source": [
    "\n",
    "\n",
    "height=int(input('請輸入身高'))\n",
    "weight=int(input('請輸入體重'))\n",
    "bmi=weight/((height/100)**2)\n",
    "\n",
    "print(f\"您的bmi是{bmi:.0f}\")\n",
    "\n",
    "\n",
    "\n"
   ]
  },
  {
   "cell_type": "code",
   "execution_count": 1,
   "metadata": {},
   "outputs": [
    {
     "name": "stdout",
     "output_type": "stream",
     "text": [
      "您的bmi是26.9，您的體重過重\n"
     ]
    }
   ],
   "source": [
    "\n",
    "height=int(input('請輸入身高'))\n",
    "weight=int(input('請輸入體重'))\n",
    "bmi=weight/((height/100)**2)\n",
    "\n",
    "\n",
    "if bmi>30:\n",
    "   print(f'您的bmi是{bmi:.1f}，您的體重肥胖')\n",
    "elif bmi>=25:\n",
    "  print(f'您的bmi是{bmi:.1f}，您的體重過重')\n",
    "elif bmi>=18.5:\n",
    "  print(f'您的bmi是{bmi:.1f}，您的體重正常')\n",
    "\n",
    "else:\n",
    "  print(f'您的bmi是{bmi:.1f}，您的體重過輕')"
   ]
  }
 ],
 "metadata": {
  "kernelspec": {
   "display_name": "Python 3",
   "language": "python",
   "name": "python3"
  },
  "language_info": {
   "codemirror_mode": {
    "name": "ipython",
    "version": 3
   },
   "file_extension": ".py",
   "mimetype": "text/x-python",
   "name": "python",
   "nbconvert_exporter": "python",
   "pygments_lexer": "ipython3",
   "version": "3.8.6"
  }
 },
 "nbformat": 4,
 "nbformat_minor": 2
}
