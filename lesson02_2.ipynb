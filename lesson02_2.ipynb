{
  "nbformat": 4,
  "nbformat_minor": 0,
  "metadata": {
    "colab": {
      "provenance": []
    },
    "kernelspec": {
      "name": "python3",
      "display_name": "Python 3"
    },
    "language_info": {
      "name": "python"
    }
  },
  "cells": [
    {
      "cell_type": "code",
      "execution_count": null,
      "metadata": {
        "colab": {
          "base_uri": "https://localhost:8080/"
        },
        "id": "bAkjHiEGWI86",
        "outputId": "39c0e83b-7875-40a9-c173-d01a863821cd"
      },
      "outputs": [
        {
          "output_type": "stream",
          "name": "stdout",
          "text": [
            "請輸入overall:7\n",
            "達標\n",
            "程式結束，祝您有個美好的1天！\n"
          ]
        }
      ],
      "source": [
        "overall=eval(input('請輸入overall:'))\n",
        "if overall >= 6.5:\n",
        "   print(\"達標\")\n",
        "else:\n",
        "  print(\"未達標\")\n",
        "\n",
        "print('程式結束，祝您有個美好的1天！')"
      ]
    },
    {
      "cell_type": "code",
      "source": [
        "ieltsoverall=eval(input(\"請輸入overall:\"))\n",
        "if ieltsoverall>=9.0:\n",
        "   print('CEFR:C2')\n",
        "elif ieltsoverall>=7.0:\n",
        "  print(\"CEFR:C1\")\n",
        "elif ieltsoverall>=5.5:\n",
        "  print(\"CEFR:B2\")\n",
        "elif ieltsoverall>=4.0:\n",
        "  print(\"CEFR:B1\")\n",
        "else:\n",
        "  print(\"CEFR:A\")"
      ],
      "metadata": {
        "id": "3IYAheRyJIHm",
        "colab": {
          "base_uri": "https://localhost:8080/"
        },
        "outputId": "c6d47497-a7be-477f-d137-2db9b6a55bc7"
      },
      "execution_count": null,
      "outputs": [
        {
          "output_type": "stream",
          "name": "stdout",
          "text": [
            "請輸入overall:6.5\n",
            "CEFR:B2\n"
          ]
        }
      ]
    },
    {
      "cell_type": "code",
      "source": [
        "overall=eval(input('請輸入overall'))\n",
        "if overall>=5.75:\n",
        "   print('overall 6.0')\n",
        "elif overall>=5.25:\n",
        "     print(\"overall 5.5\")\n",
        "else:\n",
        "     print(\"overall 5.0\")"
      ],
      "metadata": {
        "colab": {
          "base_uri": "https://localhost:8080/"
        },
        "id": "HCU2AVHwtYs7",
        "outputId": "85a14f36-77dc-4938-896a-13aa2a663d0b"
      },
      "execution_count": null,
      "outputs": [
        {
          "output_type": "stream",
          "name": "stdout",
          "text": [
            "請輸入overall5.85\n",
            "overall 6.0\n"
          ]
        }
      ]
    },
    {
      "cell_type": "code",
      "source": [
        "sum=0\n",
        "while  (True):\n",
        "    input_value=int(input('請輸入數值:'))\n",
        "    if input_value %2 == 1:\n",
        "        continue\n",
        "    elif input_value<0:\n",
        "        break\n",
        "\n",
        "    else:\n",
        "        sum += input_value\n",
        "\n",
        "print(f'所有正偶數的加總是{sum}')"
      ],
      "metadata": {
        "colab": {
          "base_uri": "https://localhost:8080/"
        },
        "id": "5O3tfgZVvcp2",
        "outputId": "b7e77bb9-7568-4ff0-ad9b-a70941214576"
      },
      "execution_count": null,
      "outputs": [
        {
          "output_type": "stream",
          "name": "stdout",
          "text": [
            "請輸入數值:55\n",
            "請輸入數值:44\n",
            "請輸入數值:-6\n",
            "所有正偶數的加總是44\n"
          ]
        }
      ]
    }
  ]
}