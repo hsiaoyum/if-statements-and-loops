{
 "cells": [
  {
   "cell_type": "code",
   "execution_count": 49,
   "metadata": {},
   "outputs": [
    {
     "name": "stdout",
     "output_type": "stream",
     "text": [
      "H\n",
      "程式結束\n"
     ]
    }
   ],
   "source": [
    "while (True) :\n",
    "\n",
    "    stuff=input('請輸入小寫英文字母[按q會離開]:')\n",
    "\n",
    "    if stuff== 'q':\n",
    "\n",
    "        break\n",
    "\n",
    "    print(stuff.upper())\n",
    "\n",
    "print('程式結束')\n",
    "\n"
   ]
  },
  {
   "cell_type": "code",
   "execution_count": null,
   "metadata": {},
   "outputs": [],
   "source": [
    "#break, continue\n",
    "\n",
    "sum=0\n",
    "while  (True):\n",
    "    input_value=int(input('請輸入數值:'))\n",
    "    if input_value %2 == 1:\n",
    "        continue\n",
    "    elif input_value<0:\n",
    "        break\n",
    "\n",
    "    else:\n",
    "        sum += input_value\n",
    "\n",
    "print(f'所有正偶數的加總是{sum}')        \n"
   ]
  },
  {
   "cell_type": "code",
   "execution_count": 48,
   "metadata": {},
   "outputs": [
    {
     "data": {
      "text/plain": [
       "3"
      ]
     },
     "execution_count": 48,
     "metadata": {},
     "output_type": "execute_result"
    }
   ],
   "source": [
    "#建立亂數\n",
    "\n",
    "import random\n",
    "#random.randint(1,55)\n",
    "random.randrange(1,4)\n",
    "\n"
   ]
  },
  {
   "cell_type": "code",
   "execution_count": 21,
   "metadata": {},
   "outputs": [
    {
     "data": {
      "text/plain": [
       "2"
      ]
     },
     "execution_count": 21,
     "metadata": {},
     "output_type": "execute_result"
    }
   ],
   "source": [
    "import random\n",
    "random.randrange(1,4)\n",
    "\n"
   ]
  },
  {
   "cell_type": "code",
   "execution_count": 1,
   "metadata": {},
   "outputs": [
    {
     "name": "stdout",
     "output_type": "stream",
     "text": [
      "GUESS NUMBER\n",
      "再小一點！\n",
      "你已經猜了1次，請加油\n",
      "再小一點！\n",
      "你已經猜了2次，請加油\n",
      "再小一點！\n",
      "你已經猜了3次，請加油\n",
      "再小一點！\n",
      "你已經猜了4次，請加油\n",
      "再小一點！\n",
      "你已經猜了5次，請加油\n",
      "恭喜猜對！答案是5，你猜了6次\n",
      "====game over====\n"
     ]
    }
   ],
   "source": [
    "#設計一個猜數字遊戲\n",
    "\n",
    "import random\n",
    "min=5\n",
    "max=15\n",
    "guess= random.randint(min,max)\n",
    "count=0\n",
    "\n",
    "print('GUESS NUMBER')\n",
    "\n",
    "while(True):\n",
    "   keyin=int (input(f'數字範圍是{min}~{max}'))\n",
    "   count+=1\n",
    "   if (keyin>=min and keyin <= max):\n",
    "      if (keyin == guess):\n",
    "        print(f'恭喜猜對！答案是{guess}，你猜了{count}次')\n",
    "        break\n",
    "   \n",
    "      elif (keyin<guess):\n",
    "       print('再大一點！')\n",
    "       min=keyin+1\n",
    "      elif (keyin>guess):\n",
    "       print('再小一點！')\n",
    "       max=keyin-1\n",
    "\n",
    "\n",
    "      print(f'你已經猜了{count}次，請加油')\n",
    "   else:\n",
    "       print('輸入提示範圍內的數字')      \n",
    "print('====game over====')\n",
    "\n"
   ]
  }
 ],
 "metadata": {
  "kernelspec": {
   "display_name": "Python 3",
   "language": "python",
   "name": "python3"
  },
  "language_info": {
   "codemirror_mode": {
    "name": "ipython",
    "version": 3
   },
   "file_extension": ".py",
   "mimetype": "text/x-python",
   "name": "python",
   "nbconvert_exporter": "python",
   "pygments_lexer": "ipython3",
   "version": "3.8.6"
  }
 },
 "nbformat": 4,
 "nbformat_minor": 2
}
